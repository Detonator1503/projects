{
  "nbformat": 4,
  "nbformat_minor": 0,
  "metadata": {
    "colab": {
      "provenance": [],
      "collapsed_sections": []
    },
    "kernelspec": {
      "name": "python3",
      "display_name": "Python 3"
    },
    "language_info": {
      "name": "python"
    }
  },
  "cells": [
    {
      "cell_type": "code",
      "source": [
        "from datetime import datetime\n",
        "class Ticket:\n",
        "  \"\"\"\n",
        "  This is the class which creates the ticket according to the indexing of the stops in the list\n",
        "\n",
        "\"\"\"\n",
        "\n",
        "  count = 0\n",
        "  distance = ['BORIVALI NANCY COLONY',\t\n",
        "'BORIVALI SUKURWADI',\n",
        "'SAMATANAGAR KANDIVALI EAST',\t\n",
        "'PUSHPA PARK MALAD',\t\n",
        "'GOREGAON EAST POLICE STN.',\t\n",
        "'S.R.P. COLONY JOGESHWARI',\t\n",
        "'GUNDAVALI ANDHERI EAST',\t\n",
        "'DOMESTIC AIRPORT',\t\n",
        "'VILEPARLE (E) SAIBABA MANDIR',\t\n",
        "'WAKOLA POLICE STN.',\t\n",
        "'MARATHA COLONY',\t\n",
        "'KHAR EAST TEACHERS COLONY',\t\n",
        "'BANDRA HOUSING BOARD OFFICE',\t\n",
        "'DHARAVI',\t\n",
        "'PRIYADARSHANI CHOWK',\t\n",
        "'SION',\t\n",
        "'ANUSHAKTI NAGAR',\t\n",
        "'MAITRI PARK',\t\n",
        "'MANKHURD RLY. STN.',\t\n",
        "'NERUL FATA',\t\n",
        "'VASHI HIGHWAY',\t\n",
        "'NERUL',\t\n",
        "'KOKAN BHAVAN',\t\n",
        "'KHARGHAR',\t\n",
        "'KHAR GHAR',\t\n",
        "'KOKAN BHAVAN FATA',\t\n",
        "'KALAMBOLI',\t\n",
        "'EXPRESS WAY TOLL NAKA',\t\n",
        "'KAMOTHE',\n",
        "'KALAMBOLI HIGHWAY',\t\n",
        "'FOOD MALL',\t\n",
        "'LONAVALA FATA',\t\n",
        "'TOLL NAKA',\t\n",
        "'EXPRESS WAY END',\t\n",
        "'WAKAD',\n",
        "'HINJWADI FATA',\t\n",
        "'TOLL NAKA',\t\n",
        "'INDIRA COLLEGE WAKAD',\t\n",
        "'BALEWADI',\t\n",
        "'CHANDANI CHOWK',\t\n",
        "'VANAJ',\t\n",
        "'KOTHRUD CHATRAPATI SHIVAJIMAHARAJ PUTALA',\t\n",
        "'S.N.D.T. COLLEGE',\t\n",
        "'DECCAN GYMKHANA',\t\n",
        "'NAL STOP',\t\n",
        "'SWARGATE, PUNE']\n",
        "\n",
        "\n",
        "\n",
        "\n",
        "  def __init__(self, From, To, Adults, Childrens = 0):\n",
        "    self.From = From.upper()\n",
        "    self.To = To.upper()\n",
        "    self.Adults = Adults \n",
        "    self.Childrens = Childrens\n",
        "    self.Passengers = (f\"Adults : {Adults}, Child : {Childrens}\")\n",
        "    try:\n",
        "      self.x = abs(Ticket.distance.index(self.From) - (Ticket.distance.index(self.To)/2))\n",
        "      self.fare = self.x*10* (Adults +(Childrens/2)) \n",
        "      self.count_tickets()\n",
        "      self.print_ticket()\n",
        "    except Exception as e:\n",
        "      print(str(e).replace(\"list\", \"route\"))\n",
        "\n",
        "  def count_tickets(self):\n",
        "    Ticket.count +=1 \n",
        "\n",
        "  def print_ticket(self):\n",
        "      print(f\"\"\" ==========================Ticket============================\n",
        "                Bus : BNC to Swargate\n",
        "                Passangers : {self.Passengers}\n",
        "                time: {str(datetime.now())}\n",
        "                From : {self.From} To: {self.To}  Total Passangers: {self.Adults +self.Childrens}\n",
        "                Total Fare : {self.fare}\n",
        "\n",
        "                \"\"\")\n",
        "    \n",
        "        "
      ],
      "metadata": {
        "id": "SqJOW35506lC"
      },
      "execution_count": 71,
      "outputs": []
    },
    {
      "cell_type": "code",
      "source": [
        "pass1 = Ticket(\"Nal Stop\", \"Kalamboli\", 3, 2)\n",
        "\n"
      ],
      "metadata": {
        "colab": {
          "base_uri": "https://localhost:8080/"
        },
        "id": "7-ZEme9qeUMt",
        "outputId": "05d02a1d-fc7f-4fe1-f8f4-3e8cf255a39c"
      },
      "execution_count": 72,
      "outputs": [
        {
          "output_type": "stream",
          "name": "stdout",
          "text": [
            " ==========================Ticket============================\n",
            "                Bus : BNC to Swargate\n",
            "                Passangers : Adults : 3, Child : 2\n",
            "                time: 2022-10-15 08:51:02.995915\n",
            "                From : NAL STOP To: KALAMBOLI  Total Passangers: 5\n",
            "                Total Fare : 1240.0\n",
            "\n",
            "                \n"
          ]
        }
      ]
    },
    {
      "cell_type": "code",
      "source": [
        "pass2 = Ticket(\"nerul\", \"panvel\", 1)\n"
      ],
      "metadata": {
        "colab": {
          "base_uri": "https://localhost:8080/"
        },
        "id": "uF0K2bbmrLVU",
        "outputId": "b86018a4-3b34-4c25-b38d-fffb205bfb53"
      },
      "execution_count": 73,
      "outputs": [
        {
          "output_type": "stream",
          "name": "stdout",
          "text": [
            "'PANVEL' is not in route\n"
          ]
        }
      ]
    },
    {
      "cell_type": "code",
      "source": [
        "Ticket.count"
      ],
      "metadata": {
        "colab": {
          "base_uri": "https://localhost:8080/"
        },
        "id": "kUJXpVl3riEl",
        "outputId": "65721163-032a-4c96-ad43-f606aae587b7"
      },
      "execution_count": 74,
      "outputs": [
        {
          "output_type": "execute_result",
          "data": {
            "text/plain": [
              "1"
            ]
          },
          "metadata": {},
          "execution_count": 74
        }
      ]
    },
    {
      "cell_type": "code",
      "source": [
        "pass3 = Ticket(\"nerul\", \"swargate, pune\", 3,1)"
      ],
      "metadata": {
        "colab": {
          "base_uri": "https://localhost:8080/"
        },
        "id": "JtmKmLsAt853",
        "outputId": "8cf24240-fee3-4b39-f73d-64cc508d705f"
      },
      "execution_count": 75,
      "outputs": [
        {
          "output_type": "stream",
          "name": "stdout",
          "text": [
            " ==========================Ticket============================\n",
            "                Bus : BNC to Swargate\n",
            "                Passangers : Adults : 3, Child : 1\n",
            "                time: 2022-10-15 08:51:19.537174\n",
            "                From : NERUL To: SWARGATE, PUNE  Total Passangers: 4\n",
            "                Total Fare : 52.5\n",
            "\n",
            "                \n"
          ]
        }
      ]
    },
    {
      "cell_type": "code",
      "source": [],
      "metadata": {
        "id": "A6oXJW2yvG_z"
      },
      "execution_count": null,
      "outputs": []
    }
  ]
}